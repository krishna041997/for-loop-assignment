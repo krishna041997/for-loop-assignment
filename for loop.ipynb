{
 "cells": [
  {
   "cell_type": "code",
   "execution_count": 1,
   "id": "b8783a0c-8c25-4e73-920b-44c802dbb38f",
   "metadata": {},
   "outputs": [],
   "source": [
    "l=[1,2,3,4,5,6]"
   ]
  },
  {
   "cell_type": "code",
   "execution_count": 6,
   "id": "d31335c4-a477-422b-96c3-79f437383aac",
   "metadata": {},
   "outputs": [
    {
     "data": {
      "text/plain": [
       "list"
      ]
     },
     "execution_count": 6,
     "metadata": {},
     "output_type": "execute_result"
    }
   ],
   "source": [
    "type(l)"
   ]
  },
  {
   "cell_type": "code",
   "execution_count": 8,
   "id": "b63fa0ec-72c7-480e-bcfc-bcc3e246baf6",
   "metadata": {},
   "outputs": [
    {
     "name": "stdout",
     "output_type": "stream",
     "text": [
      "1 <class 'int'>\n",
      "2 <class 'int'>\n",
      "3 <class 'int'>\n",
      "4 <class 'int'>\n",
      "5 <class 'int'>\n",
      "6 <class 'int'>\n"
     ]
    }
   ],
   "source": [
    "for i in l :\n",
    "    print(i , type(i))"
   ]
  },
  {
   "cell_type": "code",
   "execution_count": 9,
   "id": "f93bb214-74b8-4e82-a624-e1352ba71275",
   "metadata": {},
   "outputs": [],
   "source": [
    "l1=[\"krishna\" , \"shiv\" , \"sanjeev\"]"
   ]
  },
  {
   "cell_type": "code",
   "execution_count": 13,
   "id": "1d12b794-4fac-4169-be62-3bab957a978f",
   "metadata": {},
   "outputs": [
    {
     "name": "stdout",
     "output_type": "stream",
     "text": [
      "krishna\n",
      "shiv\n",
      "sanjeev\n"
     ]
    }
   ],
   "source": [
    "for i in l1 :\n",
    "    print(i)"
   ]
  },
  {
   "cell_type": "code",
   "execution_count": 16,
   "id": "a15c6309-0934-402c-974c-8ae43e97ca6d",
   "metadata": {},
   "outputs": [
    {
     "name": "stdout",
     "output_type": "stream",
     "text": [
      "krishna\n",
      "shiv\n",
      "sanjeev\n"
     ]
    }
   ],
   "source": [
    "for i in l1 :\n",
    "    print(i)"
   ]
  },
  {
   "cell_type": "code",
   "execution_count": 20,
   "id": "a69b60a7-49fa-400b-ae80-4fc93479fe79",
   "metadata": {},
   "outputs": [
    {
     "name": "stdout",
     "output_type": "stream",
     "text": [
      "krishna\n",
      "shiv\n",
      "sanjeev\n",
      "do somthing\n"
     ]
    }
   ],
   "source": [
    "for i in l1 :\n",
    "    print(i)\n",
    "else :\n",
    "     print(\"do somthing\")"
   ]
  },
  {
   "cell_type": "code",
   "execution_count": 45,
   "id": "b65b4542-a87a-490a-9371-9e3ce1495d98",
   "metadata": {},
   "outputs": [],
   "source": [
    "l1=[\"sudh\", \"kumar\", \"naik\", \"anurag\"]"
   ]
  },
  {
   "cell_type": "code",
   "execution_count": 47,
   "id": "16fbd3fb-ec23-4aaf-b9f5-bee0d9317e60",
   "metadata": {},
   "outputs": [
    {
     "name": "stdout",
     "output_type": "stream",
     "text": [
      "sudh\n"
     ]
    }
   ],
   "source": [
    "for i in l1:\n",
    "    if i==\"kumar\":\n",
    "        break\n",
    "    print(i)"
   ]
  },
  {
   "cell_type": "code",
   "execution_count": 48,
   "id": "e0f6e6a1-dcb1-4c7e-8a31-e134d87d14e3",
   "metadata": {},
   "outputs": [],
   "source": [
    "l2=[\"shiv\", \"krishna\", \"sanjeev\", \"kumar\"]"
   ]
  },
  {
   "cell_type": "code",
   "execution_count": 51,
   "id": "0a6792d8-86ab-4bcd-bbe9-4e118ad0ee23",
   "metadata": {},
   "outputs": [
    {
     "name": "stdout",
     "output_type": "stream",
     "text": [
      "shiv\n",
      "krishna\n",
      "sanjeev\n"
     ]
    }
   ],
   "source": [
    "for i in l2:\n",
    "    if i==\"kumar\":\n",
    "        break\n",
    "    print(i)"
   ]
  },
  {
   "cell_type": "code",
   "execution_count": 52,
   "id": "cf1b98f6-97e8-4def-94c2-d25ce9cce667",
   "metadata": {},
   "outputs": [
    {
     "data": {
      "text/plain": [
       "['sudh', 'kumar', 'naik', 'anurag']"
      ]
     },
     "execution_count": 52,
     "metadata": {},
     "output_type": "execute_result"
    }
   ],
   "source": [
    "l1"
   ]
  },
  {
   "cell_type": "code",
   "execution_count": 55,
   "id": "1984982e-759c-4fcc-8f07-ac8976b40031",
   "metadata": {},
   "outputs": [
    {
     "name": "stdout",
     "output_type": "stream",
     "text": [
      "sudh\n"
     ]
    }
   ],
   "source": [
    "for i in l1:\n",
    "    if i==\"kumar\":\n",
    "        break\n",
    "    print(i)\n",
    "else:\n",
    "    print(\"do somthing\")"
   ]
  },
  {
   "cell_type": "code",
   "execution_count": 56,
   "id": "d794853b-a220-473b-8037-7fcd41e89c6e",
   "metadata": {},
   "outputs": [
    {
     "data": {
      "text/plain": [
       "['sudh', 'kumar', 'naik', 'anurag']"
      ]
     },
     "execution_count": 56,
     "metadata": {},
     "output_type": "execute_result"
    }
   ],
   "source": [
    "l1"
   ]
  },
  {
   "cell_type": "code",
   "execution_count": 57,
   "id": "8d033b7e-36e0-4d57-841c-2449644a7b17",
   "metadata": {},
   "outputs": [
    {
     "name": "stdout",
     "output_type": "stream",
     "text": [
      "sudh\n",
      "naik\n",
      "anurag\n"
     ]
    }
   ],
   "source": [
    "for i in l1:\n",
    "    if i ==\"kumar\":\n",
    "        continue\n",
    "    print(i)\n",
    "    "
   ]
  },
  {
   "cell_type": "code",
   "execution_count": 58,
   "id": "f8ca61a6-dc65-40fb-8c1a-70ef60eca28e",
   "metadata": {},
   "outputs": [
    {
     "data": {
      "text/plain": [
       "['sudh', 'kumar', 'naik', 'anurag']"
      ]
     },
     "execution_count": 58,
     "metadata": {},
     "output_type": "execute_result"
    }
   ],
   "source": [
    "l1"
   ]
  },
  {
   "cell_type": "code",
   "execution_count": 67,
   "id": "7e3e1851-5f56-4a50-b82f-b73e87121be8",
   "metadata": {},
   "outputs": [
    {
     "name": "stdout",
     "output_type": "stream",
     "text": [
      "sudh\n",
      "naik\n",
      "anurag\n",
      "do something\n"
     ]
    }
   ],
   "source": [
    "for i in l1:\n",
    "    if i==\"kumar\":\n",
    "        continue\n",
    "    print(i)\n",
    "else:\n",
    "    print(\"do something\")"
   ]
  },
  {
   "cell_type": "code",
   "execution_count": 68,
   "id": "4a7f061a-1054-4dce-ada7-47366767d4d5",
   "metadata": {},
   "outputs": [
    {
     "data": {
      "text/plain": [
       "range(0, 5)"
      ]
     },
     "execution_count": 68,
     "metadata": {},
     "output_type": "execute_result"
    }
   ],
   "source": [
    "range(5)"
   ]
  },
  {
   "cell_type": "code",
   "execution_count": 70,
   "id": "ae8bd211-1c5d-4e14-b525-c85377749d62",
   "metadata": {},
   "outputs": [
    {
     "data": {
      "text/plain": [
       "[0, 1, 2, 3, 4]"
      ]
     },
     "execution_count": 70,
     "metadata": {},
     "output_type": "execute_result"
    }
   ],
   "source": [
    "list(range(5))"
   ]
  },
  {
   "cell_type": "code",
   "execution_count": 71,
   "id": "b765a1ed-09fb-4513-a846-bc9f7bfc5394",
   "metadata": {},
   "outputs": [
    {
     "data": {
      "text/plain": [
       "range(0, 20, 2)"
      ]
     },
     "execution_count": 71,
     "metadata": {},
     "output_type": "execute_result"
    }
   ],
   "source": [
    "range(0,20,2)"
   ]
  },
  {
   "cell_type": "code",
   "execution_count": 72,
   "id": "f24bcbfe-5ede-49a4-9d25-89fc8958606f",
   "metadata": {},
   "outputs": [
    {
     "data": {
      "text/plain": [
       "[0, 2, 4, 6, 8, 10, 12, 14, 16, 18]"
      ]
     },
     "execution_count": 72,
     "metadata": {},
     "output_type": "execute_result"
    }
   ],
   "source": [
    "list(range(0,20,2))"
   ]
  },
  {
   "cell_type": "code",
   "execution_count": 73,
   "id": "d475dac5-d47b-46ca-bd51-eeb95677cc2d",
   "metadata": {},
   "outputs": [
    {
     "data": {
      "text/plain": [
       "range(-10, 0)"
      ]
     },
     "execution_count": 73,
     "metadata": {},
     "output_type": "execute_result"
    }
   ],
   "source": [
    "range(-10,0)"
   ]
  },
  {
   "cell_type": "code",
   "execution_count": 74,
   "id": "0d535e0a-ac66-4645-967f-f5859156cd6e",
   "metadata": {},
   "outputs": [
    {
     "data": {
      "text/plain": [
       "[-10, -9, -8, -7, -6, -5, -4, -3, -2, -1]"
      ]
     },
     "execution_count": 74,
     "metadata": {},
     "output_type": "execute_result"
    }
   ],
   "source": [
    "list(range(-10,0))"
   ]
  },
  {
   "cell_type": "code",
   "execution_count": 5,
   "id": "a68e5653-d1e4-41df-8743-e5f12010ea94",
   "metadata": {},
   "outputs": [],
   "source": [
    "l=[\"krish\", \"kumar\", \"shiv\", \"sanjeev\"]"
   ]
  },
  {
   "cell_type": "code",
   "execution_count": 7,
   "id": "1ef277c8-30d6-4ddc-934f-54ecbc755481",
   "metadata": {},
   "outputs": [
    {
     "data": {
      "text/plain": [
       "['krish', 'kumar', 'shiv', 'sanjeev']"
      ]
     },
     "execution_count": 7,
     "metadata": {},
     "output_type": "execute_result"
    }
   ],
   "source": [
    "l"
   ]
  },
  {
   "cell_type": "code",
   "execution_count": 8,
   "id": "262ce146-02ad-42ca-ab47-33906d063bbc",
   "metadata": {},
   "outputs": [
    {
     "data": {
      "text/plain": [
       "['krish', 'kumar', 'shiv', 'sanjeev']"
      ]
     },
     "execution_count": 8,
     "metadata": {},
     "output_type": "execute_result"
    }
   ],
   "source": [
    "list(l)"
   ]
  },
  {
   "cell_type": "code",
   "execution_count": 9,
   "id": "16181dd5-44b1-4103-bae8-76dcf357d986",
   "metadata": {},
   "outputs": [
    {
     "data": {
      "text/plain": [
       "4"
      ]
     },
     "execution_count": 9,
     "metadata": {},
     "output_type": "execute_result"
    }
   ],
   "source": [
    "len(l)"
   ]
  },
  {
   "cell_type": "code",
   "execution_count": 11,
   "id": "c8fdb126-8d80-4db2-bd85-11a0d313c4eb",
   "metadata": {},
   "outputs": [
    {
     "data": {
      "text/plain": [
       "range(0, 4)"
      ]
     },
     "execution_count": 11,
     "metadata": {},
     "output_type": "execute_result"
    }
   ],
   "source": [
    "range(len(l))"
   ]
  },
  {
   "cell_type": "code",
   "execution_count": 14,
   "id": "36914e9a-aba7-492a-95f3-f5db449d9d1d",
   "metadata": {},
   "outputs": [
    {
     "data": {
      "text/plain": [
       "[0, 1, 2, 3]"
      ]
     },
     "execution_count": 14,
     "metadata": {},
     "output_type": "execute_result"
    }
   ],
   "source": [
    "list(range(len(l)))"
   ]
  },
  {
   "cell_type": "code",
   "execution_count": 20,
   "id": "97ff9c2c-cd81-49d2-a5cb-232d311beb86",
   "metadata": {},
   "outputs": [
    {
     "name": "stdout",
     "output_type": "stream",
     "text": [
      "krish\n",
      "kumar\n",
      "shiv\n",
      "sanjeev\n"
     ]
    }
   ],
   "source": [
    "for i in range(len(l)):\n",
    "    print(l[i])\n"
   ]
  },
  {
   "cell_type": "code",
   "execution_count": 25,
   "id": "fc5a8d99-d4d3-4334-ba1e-616c46f30a9e",
   "metadata": {},
   "outputs": [
    {
     "name": "stdout",
     "output_type": "stream",
     "text": [
      "i\n",
      "m\n",
      "i\n",
      "n\n"
     ]
    }
   ],
   "source": [
    "for i in range(len(l)):\n",
    "    print(l[i][2])"
   ]
  },
  {
   "cell_type": "code",
   "execution_count": 28,
   "id": "899c7495-0797-4b5d-8c9b-96101bf8efed",
   "metadata": {},
   "outputs": [
    {
     "name": "stdout",
     "output_type": "stream",
     "text": [
      "['krish', 'kumar', 'shiv', 'sanjeev']\n",
      "['kumar', 'shiv', 'sanjeev']\n",
      "['shiv', 'sanjeev']\n",
      "['sanjeev']\n"
     ]
    }
   ],
   "source": [
    "for i in range(len(l)):\n",
    "    print(l[i:4])"
   ]
  },
  {
   "cell_type": "code",
   "execution_count": 45,
   "id": "0076a5cd-b064-4f01-9ba3-fd9e8ebc47d2",
   "metadata": {},
   "outputs": [
    {
     "name": "stdout",
     "output_type": "stream",
     "text": [
      "krish 2\n",
      "kumar 2\n",
      "shiv 2\n",
      "sanjeev 2\n"
     ]
    }
   ],
   "source": [
    "for i in range(len(l)):\n",
    "               print(l[i],2)"
   ]
  },
  {
   "cell_type": "code",
   "execution_count": 68,
   "id": "35f3f4f7-8eef-4342-8144-b3720e91ddae",
   "metadata": {},
   "outputs": [
    {
     "name": "stdout",
     "output_type": "stream",
     "text": [
      "krish\n",
      "kumar\n",
      "shiv\n",
      "sanjeev\n"
     ]
    }
   ],
   "source": [
    "for i in range(len(l)):\n",
    "    print(l[i])"
   ]
  },
  {
   "cell_type": "code",
   "execution_count": 1,
   "id": "019a4492-76ce-4d09-a530-6112e997c26c",
   "metadata": {},
   "outputs": [],
   "source": [
    "l=[\"shiv\", \"krish\", \"sanjeev\", \"kumar\"]"
   ]
  },
  {
   "cell_type": "code",
   "execution_count": 2,
   "id": "a97374c4-9fda-4b93-97df-35112f82a581",
   "metadata": {},
   "outputs": [
    {
     "data": {
      "text/plain": [
       "['shiv', 'krish', 'sanjeev', 'kumar']"
      ]
     },
     "execution_count": 2,
     "metadata": {},
     "output_type": "execute_result"
    }
   ],
   "source": [
    "l"
   ]
  },
  {
   "cell_type": "code",
   "execution_count": 3,
   "id": "c9660243-166a-4375-a380-5eeb3a025621",
   "metadata": {},
   "outputs": [
    {
     "data": {
      "text/plain": [
       "4"
      ]
     },
     "execution_count": 3,
     "metadata": {},
     "output_type": "execute_result"
    }
   ],
   "source": [
    "len(l)"
   ]
  },
  {
   "cell_type": "code",
   "execution_count": 5,
   "id": "461aef47-a3d6-48fb-b203-22e22141452f",
   "metadata": {},
   "outputs": [
    {
     "data": {
      "text/plain": [
       "range(0, 4)"
      ]
     },
     "execution_count": 5,
     "metadata": {},
     "output_type": "execute_result"
    }
   ],
   "source": [
    "range(len(l))"
   ]
  },
  {
   "cell_type": "code",
   "execution_count": 6,
   "id": "605c756a-4620-43b7-a48b-ee717efac743",
   "metadata": {},
   "outputs": [
    {
     "data": {
      "text/plain": [
       "[0, 1, 2, 3]"
      ]
     },
     "execution_count": 6,
     "metadata": {},
     "output_type": "execute_result"
    }
   ],
   "source": [
    "list(range(len(l)))"
   ]
  },
  {
   "cell_type": "code",
   "execution_count": 10,
   "id": "c7f137a8-44de-471e-b7a5-3849f22bad98",
   "metadata": {},
   "outputs": [
    {
     "name": "stdout",
     "output_type": "stream",
     "text": [
      "shiv\n",
      "krish\n",
      "sanjeev\n",
      "kumar\n"
     ]
    }
   ],
   "source": [
    "for i in range(len(l)):\n",
    "    print(l[i])"
   ]
  },
  {
   "cell_type": "code",
   "execution_count": 11,
   "id": "aa0390cd-4d9b-474b-b573-9893ba026ceb",
   "metadata": {},
   "outputs": [
    {
     "data": {
      "text/plain": [
       "[4, 3, 2, 1]"
      ]
     },
     "execution_count": 11,
     "metadata": {},
     "output_type": "execute_result"
    }
   ],
   "source": [
    "list(range(len(l),0,-1))"
   ]
  },
  {
   "cell_type": "code",
   "execution_count": 12,
   "id": "4c40b0fb-dc06-424e-9ce2-335f1c411a71",
   "metadata": {},
   "outputs": [
    {
     "data": {
      "text/plain": [
       "['shiv', 'krish', 'sanjeev', 'kumar']"
      ]
     },
     "execution_count": 12,
     "metadata": {},
     "output_type": "execute_result"
    }
   ],
   "source": [
    "l"
   ]
  },
  {
   "cell_type": "code",
   "execution_count": 13,
   "id": "5e20c95c-c7c4-4e34-b6bd-d96257d3d099",
   "metadata": {},
   "outputs": [
    {
     "data": {
      "text/plain": [
       "[3, 2, 1, 0]"
      ]
     },
     "execution_count": 13,
     "metadata": {},
     "output_type": "execute_result"
    }
   ],
   "source": [
    "list(range(len(l)-1,-1,-1))"
   ]
  },
  {
   "cell_type": "code",
   "execution_count": 14,
   "id": "591322be-0686-4237-b579-281fd8faad03",
   "metadata": {},
   "outputs": [
    {
     "data": {
      "text/plain": [
       "['shiv', 'krish', 'sanjeev', 'kumar']"
      ]
     },
     "execution_count": 14,
     "metadata": {},
     "output_type": "execute_result"
    }
   ],
   "source": [
    "l"
   ]
  },
  {
   "cell_type": "code",
   "execution_count": 18,
   "id": "94bfac0e-43c2-41db-b13b-d049df7e9b04",
   "metadata": {},
   "outputs": [
    {
     "name": "stdout",
     "output_type": "stream",
     "text": [
      "kumar\n",
      "sanjeev\n",
      "krish\n",
      "shiv\n"
     ]
    }
   ],
   "source": [
    "for i in range(len(l)-1,-1,-1):\n",
    "     print(l[i])"
   ]
  },
  {
   "cell_type": "code",
   "execution_count": 19,
   "id": "ecda5848-0942-4966-9bea-741185d928f5",
   "metadata": {},
   "outputs": [
    {
     "data": {
      "text/plain": [
       "3"
      ]
     },
     "execution_count": 19,
     "metadata": {},
     "output_type": "execute_result"
    }
   ],
   "source": [
    "len(l)-1"
   ]
  },
  {
   "cell_type": "code",
   "execution_count": 21,
   "id": "a4817dc5-6325-4cd9-9617-dee6ba08156d",
   "metadata": {},
   "outputs": [],
   "source": [
    "l2=[12,45,15,42,65,25,35,48,88]"
   ]
  },
  {
   "cell_type": "code",
   "execution_count": 22,
   "id": "8387abad-9b8a-4b63-a218-4cc9344567b2",
   "metadata": {},
   "outputs": [
    {
     "data": {
      "text/plain": [
       "[0, 2, 4, 6, 8]"
      ]
     },
     "execution_count": 22,
     "metadata": {},
     "output_type": "execute_result"
    }
   ],
   "source": [
    "list(range(0,len(l2),2))"
   ]
  },
  {
   "cell_type": "code",
   "execution_count": 23,
   "id": "62aee00a-156e-4bbc-b68e-2c95e3d1ca3c",
   "metadata": {},
   "outputs": [
    {
     "name": "stdout",
     "output_type": "stream",
     "text": [
      "12\n",
      "15\n",
      "65\n",
      "35\n",
      "88\n"
     ]
    }
   ],
   "source": [
    "for i in range(0,len(l2),2):\n",
    "    print(l2[i])"
   ]
  },
  {
   "cell_type": "code",
   "execution_count": 25,
   "id": "b4c4723b-2adc-42ae-a7ce-4ad8d51cb6ad",
   "metadata": {},
   "outputs": [],
   "source": [
    "l=[1,4,7,8,5,3,9]"
   ]
  },
  {
   "cell_type": "code",
   "execution_count": 26,
   "id": "1fc9278c-48db-4d9a-8ada-b149cbbd7ef7",
   "metadata": {},
   "outputs": [
    {
     "data": {
      "text/plain": [
       "37"
      ]
     },
     "execution_count": 26,
     "metadata": {},
     "output_type": "execute_result"
    }
   ],
   "source": [
    "sum(l)"
   ]
  },
  {
   "cell_type": "code",
   "execution_count": 33,
   "id": "a9f713ed-00cf-4c96-b873-2941e56315a0",
   "metadata": {},
   "outputs": [
    {
     "data": {
      "text/plain": [
       "37"
      ]
     },
     "execution_count": 33,
     "metadata": {},
     "output_type": "execute_result"
    }
   ],
   "source": [
    "result= 0\n",
    "for i in l:\n",
    "        result=result+i\n",
    "result\n"
   ]
  },
  {
   "cell_type": "code",
   "execution_count": 34,
   "id": "3ce219a5-eab4-42fd-87db-6f263637aa5b",
   "metadata": {},
   "outputs": [],
   "source": [
    "t=(1,2,3,4)"
   ]
  },
  {
   "cell_type": "code",
   "execution_count": 36,
   "id": "57e2fe3e-5c89-43f0-aea9-745468513ea3",
   "metadata": {},
   "outputs": [
    {
     "data": {
      "text/plain": [
       "10"
      ]
     },
     "execution_count": 36,
     "metadata": {},
     "output_type": "execute_result"
    }
   ],
   "source": [
    "result = 0\n",
    "for i in t:\n",
    "    result=result+i\n",
    "result"
   ]
  },
  {
   "cell_type": "code",
   "execution_count": 37,
   "id": "4f216f1c-95fd-41a2-b928-6710ba94929e",
   "metadata": {},
   "outputs": [],
   "source": [
    "s=(12,45,56,18,\"krishna\", \"shivkumar\")"
   ]
  },
  {
   "cell_type": "code",
   "execution_count": 39,
   "id": "6e33e71b-dfd9-4f41-8f21-3081cdf4ff22",
   "metadata": {},
   "outputs": [
    {
     "name": "stdout",
     "output_type": "stream",
     "text": [
      "12\n",
      "45\n",
      "56\n",
      "18\n",
      "krishna\n",
      "shivkumar\n"
     ]
    }
   ],
   "source": [
    "for i in s:\n",
    "    print(i)"
   ]
  },
  {
   "cell_type": "code",
   "execution_count": 40,
   "id": "470f0519-b593-426b-ba46-85681e03b19e",
   "metadata": {},
   "outputs": [],
   "source": [
    "s1=\"krishnakumar\""
   ]
  },
  {
   "cell_type": "code",
   "execution_count": 41,
   "id": "ae0c80e7-a7b9-4847-84fa-49ca4c7be5ca",
   "metadata": {},
   "outputs": [
    {
     "name": "stdout",
     "output_type": "stream",
     "text": [
      "k\n",
      "r\n",
      "i\n",
      "s\n",
      "h\n",
      "n\n",
      "a\n",
      "k\n",
      "u\n",
      "m\n",
      "a\n",
      "r\n"
     ]
    }
   ],
   "source": [
    "for i in s1:\n",
    "    print(i)"
   ]
  },
  {
   "cell_type": "code",
   "execution_count": 47,
   "id": "80a7cf68-4302-4d82-a85a-ec3ac2985a42",
   "metadata": {},
   "outputs": [],
   "source": [
    "d={\"name\":\"krishna\", \"class\":\"data science master\" , \"topic\":[\"python\" , \"state\" , \"machine learning\" , \"DL\" , \"CV\" ,\"NLP\"]}"
   ]
  },
  {
   "cell_type": "code",
   "execution_count": 48,
   "id": "2b7b7f77-3637-4c25-9a3f-5e8d3bdf527c",
   "metadata": {},
   "outputs": [
    {
     "data": {
      "text/plain": [
       "{'name': 'krishna',\n",
       " 'class': 'data science master',\n",
       " 'topic': ['python', 'state', 'machine learning', 'DL', 'CV', 'NLP']}"
      ]
     },
     "execution_count": 48,
     "metadata": {},
     "output_type": "execute_result"
    }
   ],
   "source": [
    "d"
   ]
  },
  {
   "cell_type": "code",
   "execution_count": 49,
   "id": "9341aabd-1d16-41d0-956d-cb889876c5e5",
   "metadata": {},
   "outputs": [
    {
     "data": {
      "text/plain": [
       "dict"
      ]
     },
     "execution_count": 49,
     "metadata": {},
     "output_type": "execute_result"
    }
   ],
   "source": [
    "type(d)"
   ]
  },
  {
   "cell_type": "code",
   "execution_count": 50,
   "id": "ffbbafd8-5678-48d8-8a62-c4e5756ec03b",
   "metadata": {},
   "outputs": [
    {
     "data": {
      "text/plain": [
       "'krishna'"
      ]
     },
     "execution_count": 50,
     "metadata": {},
     "output_type": "execute_result"
    }
   ],
   "source": [
    "d[\"name\"]"
   ]
  },
  {
   "cell_type": "code",
   "execution_count": 51,
   "id": "474236e2-5e5e-481f-9b8e-aea692529528",
   "metadata": {},
   "outputs": [
    {
     "data": {
      "text/plain": [
       "dict_keys(['name', 'class', 'topic'])"
      ]
     },
     "execution_count": 51,
     "metadata": {},
     "output_type": "execute_result"
    }
   ],
   "source": [
    "d.keys()"
   ]
  },
  {
   "cell_type": "code",
   "execution_count": 54,
   "id": "04cce2b4-555a-4024-bf26-254479822897",
   "metadata": {},
   "outputs": [
    {
     "name": "stdout",
     "output_type": "stream",
     "text": [
      "name\n",
      "class\n",
      "topic\n"
     ]
    }
   ],
   "source": [
    "for i in d.keys():\n",
    "    print(i)"
   ]
  },
  {
   "cell_type": "code",
   "execution_count": 55,
   "id": "43b34214-302a-498f-aafa-a1359cbf31c0",
   "metadata": {},
   "outputs": [
    {
     "name": "stdout",
     "output_type": "stream",
     "text": [
      "krishna\n",
      "data science master\n",
      "['python', 'state', 'machine learning', 'DL', 'CV', 'NLP']\n"
     ]
    }
   ],
   "source": [
    "for i in d.keys():\n",
    "    print(d[i])"
   ]
  },
  {
   "cell_type": "code",
   "execution_count": 57,
   "id": "0d340fd2-90e1-43c9-b0ca-d7ea24a5e8df",
   "metadata": {},
   "outputs": [
    {
     "data": {
      "text/plain": [
       "dict_values(['krishna', 'data science master', ['python', 'state', 'machine learning', 'DL', 'CV', 'NLP']])"
      ]
     },
     "execution_count": 57,
     "metadata": {},
     "output_type": "execute_result"
    }
   ],
   "source": [
    "d.values()"
   ]
  },
  {
   "cell_type": "code",
   "execution_count": null,
   "id": "50032443-9416-4a05-811e-68d836974f42",
   "metadata": {},
   "outputs": [],
   "source": []
  }
 ],
 "metadata": {
  "kernelspec": {
   "display_name": "Python 3 (ipykernel)",
   "language": "python",
   "name": "python3"
  },
  "language_info": {
   "codemirror_mode": {
    "name": "ipython",
    "version": 3
   },
   "file_extension": ".py",
   "mimetype": "text/x-python",
   "name": "python",
   "nbconvert_exporter": "python",
   "pygments_lexer": "ipython3",
   "version": "3.10.8"
  }
 },
 "nbformat": 4,
 "nbformat_minor": 5
}
